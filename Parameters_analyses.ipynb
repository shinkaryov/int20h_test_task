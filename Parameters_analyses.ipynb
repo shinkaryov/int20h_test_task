{
 "cells": [
  {
   "cell_type": "markdown",
   "id": "0db9e1a7",
   "metadata": {},
   "source": [
    "### Parameters analyses"
   ]
  },
  {
   "cell_type": "code",
   "execution_count": 7,
   "id": "29edb678",
   "metadata": {},
   "outputs": [],
   "source": [
    "# import related libraries\n",
    "\n",
    "import pandas as pd\n",
    "import numpy as np\n",
    "import copy\n",
    "import matplotlib.pyplot as plt\n",
    "\n",
    "#-----------------------------------\n",
    "import warnings\n",
    "warnings.filterwarnings(\"ignore\")"
   ]
  },
  {
   "cell_type": "code",
   "execution_count": 8,
   "id": "ed1c17ff",
   "metadata": {},
   "outputs": [],
   "source": [
    "# download data\n",
    "data = pd.read_csv(r'processed_data.csv')"
   ]
  },
  {
   "cell_type": "markdown",
   "id": "1ac30293",
   "metadata": {},
   "source": [
    "#### On a tree-based models"
   ]
  },
  {
   "cell_type": "code",
   "execution_count": 9,
   "id": "7932f83d",
   "metadata": {},
   "outputs": [],
   "source": [
    "from sklearn.preprocessing import LabelEncoder\n",
    "from sklearn.ensemble import RandomForestClassifier\n",
    "\n",
    "data_copy = copy.deepcopy(data)\n",
    "\n",
    "X = data_copy.drop(['event_attributes', 'event_name', 'userid', 'event_created_date'], axis=1)\n",
    "y = (data_copy['event_name'] == 'Subscription Premium Cancel').astype(int)\n",
    "\n",
    "\n",
    "le = LabelEncoder()\n",
    "X['user_state'] = le.fit_transform(X['user_state'])\n",
    "X['event_platform'] = le.fit_transform(X['event_platform'])\n",
    "X['device_manufacture'] = le.fit_transform(X['device_manufacture'])\n",
    "X['device_model'] = le.fit_transform(X['device_model'])"
   ]
  },
  {
   "cell_type": "code",
   "execution_count": 10,
   "id": "564f1568",
   "metadata": {},
   "outputs": [
    {
     "data": {
      "text/html": [
       "<style>#sk-container-id-2 {color: black;background-color: white;}#sk-container-id-2 pre{padding: 0;}#sk-container-id-2 div.sk-toggleable {background-color: white;}#sk-container-id-2 label.sk-toggleable__label {cursor: pointer;display: block;width: 100%;margin-bottom: 0;padding: 0.3em;box-sizing: border-box;text-align: center;}#sk-container-id-2 label.sk-toggleable__label-arrow:before {content: \"▸\";float: left;margin-right: 0.25em;color: #696969;}#sk-container-id-2 label.sk-toggleable__label-arrow:hover:before {color: black;}#sk-container-id-2 div.sk-estimator:hover label.sk-toggleable__label-arrow:before {color: black;}#sk-container-id-2 div.sk-toggleable__content {max-height: 0;max-width: 0;overflow: hidden;text-align: left;background-color: #f0f8ff;}#sk-container-id-2 div.sk-toggleable__content pre {margin: 0.2em;color: black;border-radius: 0.25em;background-color: #f0f8ff;}#sk-container-id-2 input.sk-toggleable__control:checked~div.sk-toggleable__content {max-height: 200px;max-width: 100%;overflow: auto;}#sk-container-id-2 input.sk-toggleable__control:checked~label.sk-toggleable__label-arrow:before {content: \"▾\";}#sk-container-id-2 div.sk-estimator input.sk-toggleable__control:checked~label.sk-toggleable__label {background-color: #d4ebff;}#sk-container-id-2 div.sk-label input.sk-toggleable__control:checked~label.sk-toggleable__label {background-color: #d4ebff;}#sk-container-id-2 input.sk-hidden--visually {border: 0;clip: rect(1px 1px 1px 1px);clip: rect(1px, 1px, 1px, 1px);height: 1px;margin: -1px;overflow: hidden;padding: 0;position: absolute;width: 1px;}#sk-container-id-2 div.sk-estimator {font-family: monospace;background-color: #f0f8ff;border: 1px dotted black;border-radius: 0.25em;box-sizing: border-box;margin-bottom: 0.5em;}#sk-container-id-2 div.sk-estimator:hover {background-color: #d4ebff;}#sk-container-id-2 div.sk-parallel-item::after {content: \"\";width: 100%;border-bottom: 1px solid gray;flex-grow: 1;}#sk-container-id-2 div.sk-label:hover label.sk-toggleable__label {background-color: #d4ebff;}#sk-container-id-2 div.sk-serial::before {content: \"\";position: absolute;border-left: 1px solid gray;box-sizing: border-box;top: 0;bottom: 0;left: 50%;z-index: 0;}#sk-container-id-2 div.sk-serial {display: flex;flex-direction: column;align-items: center;background-color: white;padding-right: 0.2em;padding-left: 0.2em;position: relative;}#sk-container-id-2 div.sk-item {position: relative;z-index: 1;}#sk-container-id-2 div.sk-parallel {display: flex;align-items: stretch;justify-content: center;background-color: white;position: relative;}#sk-container-id-2 div.sk-item::before, #sk-container-id-2 div.sk-parallel-item::before {content: \"\";position: absolute;border-left: 1px solid gray;box-sizing: border-box;top: 0;bottom: 0;left: 50%;z-index: -1;}#sk-container-id-2 div.sk-parallel-item {display: flex;flex-direction: column;z-index: 1;position: relative;background-color: white;}#sk-container-id-2 div.sk-parallel-item:first-child::after {align-self: flex-end;width: 50%;}#sk-container-id-2 div.sk-parallel-item:last-child::after {align-self: flex-start;width: 50%;}#sk-container-id-2 div.sk-parallel-item:only-child::after {width: 0;}#sk-container-id-2 div.sk-dashed-wrapped {border: 1px dashed gray;margin: 0 0.4em 0.5em 0.4em;box-sizing: border-box;padding-bottom: 0.4em;background-color: white;}#sk-container-id-2 div.sk-label label {font-family: monospace;font-weight: bold;display: inline-block;line-height: 1.2em;}#sk-container-id-2 div.sk-label-container {text-align: center;}#sk-container-id-2 div.sk-container {/* jupyter's `normalize.less` sets `[hidden] { display: none; }` but bootstrap.min.css set `[hidden] { display: none !important; }` so we also need the `!important` here to be able to override the default hidden behavior on the sphinx rendered scikit-learn.org. See: https://github.com/scikit-learn/scikit-learn/issues/21755 */display: inline-block !important;position: relative;}#sk-container-id-2 div.sk-text-repr-fallback {display: none;}</style><div id=\"sk-container-id-2\" class=\"sk-top-container\"><div class=\"sk-text-repr-fallback\"><pre>RandomForestClassifier(max_depth=5, random_state=42)</pre><b>In a Jupyter environment, please rerun this cell to show the HTML representation or trust the notebook. <br />On GitHub, the HTML representation is unable to render, please try loading this page with nbviewer.org.</b></div><div class=\"sk-container\" hidden><div class=\"sk-item\"><div class=\"sk-estimator sk-toggleable\"><input class=\"sk-toggleable__control sk-hidden--visually\" id=\"sk-estimator-id-2\" type=\"checkbox\" checked><label for=\"sk-estimator-id-2\" class=\"sk-toggleable__label sk-toggleable__label-arrow\">RandomForestClassifier</label><div class=\"sk-toggleable__content\"><pre>RandomForestClassifier(max_depth=5, random_state=42)</pre></div></div></div></div></div>"
      ],
      "text/plain": [
       "RandomForestClassifier(max_depth=5, random_state=42)"
      ]
     },
     "execution_count": 10,
     "metadata": {},
     "output_type": "execute_result"
    }
   ],
   "source": [
    "dec_tr_cls = RandomForestClassifier(random_state=42, max_depth=5)\n",
    "dec_tr_cls.fit(X, y)"
   ]
  },
  {
   "cell_type": "code",
   "execution_count": 11,
   "id": "f4405833",
   "metadata": {},
   "outputs": [
    {
     "data": {
      "image/png": "[encoded data removed]",
      "text/plain": [
       "<Figure size 432x288 with 1 Axes>"
      ]
     },
     "metadata": {
      "needs_background": "light"
     },
     "output_type": "display_data"
    }
   ],
   "source": [
    "imp = pd.DataFrame(dec_tr_cls.feature_importances_, index=X.columns, columns=['importance'])\n",
    "imp.sort_values('importance')[-10:].plot(kind='barh');"
   ]
  },
  {
   "cell_type": "markdown",
   "id": "aed60ad4",
   "metadata": {},
   "source": [
    "We can see that the most important features is user_state and event_platform"
   ]
  },
  {
   "cell_type": "markdown",
   "id": "62af0f87",
   "metadata": {},
   "source": [
    "#### RNN"
   ]
  },
  {
   "cell_type": "code",
   "execution_count": 13,
   "id": "432bcb6d",
   "metadata": {},
   "outputs": [
    {
     "name": "stdout",
     "output_type": "stream",
     "text": [
      "Epoch 1/10\n",
      "69/69 [==============================] - 2s 10ms/step - loss: 2.0684 - categorical_accuracy: 1.0000 - val_loss: 1.0001 - val_categorical_accuracy: 1.0000\n",
      "Epoch 2/10\n",
      "69/69 [==============================] - 0s 5ms/step - loss: 1.0001 - categorical_accuracy: 1.0000 - val_loss: 1.0001 - val_categorical_accuracy: 1.0000\n",
      "Epoch 3/10\n",
      "69/69 [==============================] - 0s 6ms/step - loss: 1.0001 - categorical_accuracy: 1.0000 - val_loss: 1.0001 - val_categorical_accuracy: 1.0000\n",
      "Epoch 4/10\n",
      "69/69 [==============================] - 0s 5ms/step - loss: 1.0001 - categorical_accuracy: 1.0000 - val_loss: 1.0001 - val_categorical_accuracy: 1.0000\n",
      "Epoch 5/10\n",
      "69/69 [==============================] - 0s 5ms/step - loss: 1.0001 - categorical_accuracy: 1.0000 - val_loss: 1.0001 - val_categorical_accuracy: 1.0000\n",
      "Epoch 6/10\n",
      "69/69 [==============================] - 0s 5ms/step - loss: 1.0001 - categorical_accuracy: 1.0000 - val_loss: 1.0001 - val_categorical_accuracy: 1.0000\n",
      "Epoch 7/10\n",
      "69/69 [==============================] - 0s 5ms/step - loss: 1.0001 - categorical_accuracy: 1.0000 - val_loss: 1.0001 - val_categorical_accuracy: 1.0000\n",
      "Epoch 8/10\n",
      "69/69 [==============================] - 0s 5ms/step - loss: 1.0001 - categorical_accuracy: 1.0000 - val_loss: 1.0001 - val_categorical_accuracy: 1.0000\n",
      "Epoch 9/10\n",
      "69/69 [==============================] - 0s 5ms/step - loss: 1.0001 - categorical_accuracy: 1.0000 - val_loss: 1.0001 - val_categorical_accuracy: 1.0000\n",
      "Epoch 10/10\n",
      "69/69 [==============================] - 0s 6ms/step - loss: 1.0001 - categorical_accuracy: 1.0000 - val_loss: 1.0001 - val_categorical_accuracy: 1.0000\n"
     ]
    }
   ],
   "source": [
    "from keras.models import Sequential\n",
    "from keras.layers import Dense, SimpleRNN, Embedding, Activation\n",
    "from keras.preprocessing.text import one_hot\n",
    "from tensorflow.keras.preprocessing.sequence import pad_sequences\n",
    "\n",
    "# Prepare the data for processing\n",
    "userid = data['userid']\n",
    "event_name = data['event_name']\n",
    "\n",
    "# One-hot encode the event names\n",
    "vocab_size = len(set(event_name))\n",
    "encoded_docs = [one_hot(d, vocab_size) for d in event_name]\n",
    "\n",
    "# Pad the sequences to make all sequences of the same length\n",
    "max_length = max([len(d) for d in encoded_docs])\n",
    "padded_docs = pad_sequences(encoded_docs, maxlen=max_length, padding='post')\n",
    "\n",
    "# Convert the target variable to a categorical variable\n",
    "le = LabelEncoder()\n",
    "y = le.fit_transform(data['event_name'])\n",
    "\n",
    "# Split the data into training and testing sets\n",
    "train_X = padded_docs[:int(len(padded_docs)*0.8)]\n",
    "train_y = y[:int(len(padded_docs)*0.8)]\n",
    "test_X = padded_docs[int(len(padded_docs)*0.8):]\n",
    "test_y = y[int(len(padded_docs)*0.8):]\n",
    "\n",
    "# Define the model\n",
    "model = Sequential()\n",
    "model.add(Embedding(vocab_size, 8, input_length=max_length))\n",
    "model.add(SimpleRNN(128))\n",
    "model.add(Dense(1, activation='sigmoid'))\n",
    "#model.add(layers.Activation('softmax'))\n",
    "model.compile(loss='poisson', optimizer='adam', metrics=['categorical_accuracy'])\n",
    "\n",
    "# Fit the model\n",
    "history = model.fit(train_X, train_y, epochs=10, batch_size=256, validation_data=(test_X, test_y))"
   ]
  },
  {
   "cell_type": "code",
   "execution_count": 14,
   "id": "fa44b7ed",
   "metadata": {},
   "outputs": [
    {
     "name": "stdout",
     "output_type": "stream",
     "text": [
      "Feature importances: [0.78538024 0.7450611  0.5683033  0.6364747  0.7315543  0.82835793\n",
      " 0.7506337  0.56572896]\n"
     ]
    },
    {
     "data": {
      "text/plain": [
       "Index(['userid', 'user_state', 'event_name', 'event_attributes',\n",
       "       'event_created_date', 'event_platform', 'device_manufacture',\n",
       "       'device_model', 'month'],\n",
       "      dtype='object')"
      ]
     },
     "execution_count": 14,
     "metadata": {},
     "output_type": "execute_result"
    }
   ],
   "source": [
    "weights = model.layers[0].get_weights()[0]\n",
    "importances = np.sum(np.abs(weights), axis=0)\n",
    "print('Feature importances:', importances)\n",
    "data.columns"
   ]
  },
  {
   "cell_type": "markdown",
   "id": "16f0cc8b",
   "metadata": {},
   "source": [
    "As in previous analyses we have the most important features - user_state, but now also important device_manufacture and device_model. Let's look at it"
   ]
  },
  {
   "cell_type": "code",
   "execution_count": 15,
   "id": "7c5254fd",
   "metadata": {},
   "outputs": [
    {
     "data": {
      "text/plain": [
       "AR       0.166667\n",
       "MD       0.135135\n",
       "MA       0.121212\n",
       "IN       0.117647\n",
       "IL       0.101852\n",
       "CA       0.093823\n",
       "DE       0.090909\n",
       "FL       0.078313\n",
       "NJ       0.076923\n",
       "OK       0.068966\n",
       "AZ       0.066667\n",
       "VA       0.062937\n",
       "NC       0.062500\n",
       "TX       0.059379\n",
       "WI       0.055556\n",
       "PA       0.054545\n",
       "other    0.047619\n",
       "NY       0.013575\n",
       "CT            NaN\n",
       "MI            NaN\n",
       "MO            NaN\n",
       "Name: user_state, dtype: float64"
      ]
     },
     "execution_count": 15,
     "metadata": {},
     "output_type": "execute_result"
    }
   ],
   "source": [
    "(data.query(\"event_name == 'Subscription Premium Cancel'\"). \\\n",
    "user_state.value_counts() / data.drop_duplicates(subset=['userid']).user_state.value_counts()).sort_values(ascending=False)"
   ]
  },
  {
   "cell_type": "markdown",
   "id": "5f0913f8",
   "metadata": {},
   "source": [
    "We can see that every 6th user from Arizona cancels Premium, however only 1 from 100 users from New York cancels his Premium"
   ]
  },
  {
   "cell_type": "markdown",
   "id": "fd657367",
   "metadata": {},
   "source": [
    "### Interim findings\n",
    "Based on tree-models and Recurrent Neural Networks we can say that the most important feature for future premium cancellation is user_state. Most likely to unsubscribe are users from Arizona, Maryland, Massachusetts, Indiana and Illinois, least - from New York, Connecticut, Michigan and Missouri."
   ]
  },
  {
   "cell_type": "markdown",
   "id": "b80fa277",
   "metadata": {},
   "source": [
    "# Findings - check README"
   ]
  }
 ],
 "metadata": {
  "kernelspec": {
   "display_name": "Python 3 (ipykernel)",
   "language": "python",
   "name": "python3"
  },
  "language_info": {
   "codemirror_mode": {
    "name": "ipython",
    "version": 3
   },
   "file_extension": ".py",
   "mimetype": "text/x-python",
   "name": "python",
   "nbconvert_exporter": "python",
   "pygments_lexer": "ipython3",
   "version": "3.9.7"
  }
 },
 "nbformat": 4,
 "nbformat_minor": 5
}

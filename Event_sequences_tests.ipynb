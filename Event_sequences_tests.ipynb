{
 "cells": [
  {
   "cell_type": "markdown",
   "id": "2fe72d45",
   "metadata": {},
   "source": [
    "## Tests"
   ]
  },
  {
   "cell_type": "code",
   "execution_count": 2,
   "id": "b36290ad",
   "metadata": {},
   "outputs": [],
   "source": [
    "# import related libraries\n",
    "import pandas as pd\n",
    "import numpy as np\n",
    "import copy\n",
    "\n",
    "#-----------------------------------\n",
    "import warnings\n",
    "warnings.filterwarnings(\"ignore\")"
   ]
  },
  {
   "cell_type": "markdown",
   "id": "7965d098",
   "metadata": {},
   "source": [
    "### Frequent patterns\n",
    "\n",
    "Let's prioritize events by frequence of every sequence of events, which includes \"Subscription Premium Cancel\""
   ]
  },
  {
   "cell_type": "code",
   "execution_count": 31,
   "id": "b99200d9",
   "metadata": {},
   "outputs": [],
   "source": [
    "data_2_copy = copy.deepcopy(data)"
   ]
  },
  {
   "cell_type": "code",
   "execution_count": 32,
   "id": "95da1dfc",
   "metadata": {},
   "outputs": [
    {
     "data": {
      "text/html": [
       "<div>\n",
       "<style scoped>\n",
       "    .dataframe tbody tr th:only-of-type {\n",
       "        vertical-align: middle;\n",
       "    }\n",
       "\n",
       "    .dataframe tbody tr th {\n",
       "        vertical-align: top;\n",
       "    }\n",
       "\n",
       "    .dataframe thead th {\n",
       "        text-align: right;\n",
       "    }\n",
       "</style>\n",
       "<table border=\"1\" class=\"dataframe\">\n",
       "  <thead>\n",
       "    <tr style=\"text-align: right;\">\n",
       "      <th></th>\n",
       "      <th>support</th>\n",
       "      <th>itemsets</th>\n",
       "    </tr>\n",
       "  </thead>\n",
       "  <tbody>\n",
       "    <tr>\n",
       "      <th>19</th>\n",
       "      <td>0.070904</td>\n",
       "      <td>[Subscription Premium Cancel]</td>\n",
       "    </tr>\n",
       "    <tr>\n",
       "      <th>112</th>\n",
       "      <td>0.064407</td>\n",
       "      <td>[Subscription Premium Cancel, Add Payment Meth...</td>\n",
       "    </tr>\n",
       "    <tr>\n",
       "      <th>239</th>\n",
       "      <td>0.062994</td>\n",
       "      <td>[Subscription Premium, Subscription Premium Ca...</td>\n",
       "    </tr>\n",
       "    <tr>\n",
       "      <th>966</th>\n",
       "      <td>0.062994</td>\n",
       "      <td>[Subscription Premium, Subscription Premium Ca...</td>\n",
       "    </tr>\n",
       "    <tr>\n",
       "      <th>962</th>\n",
       "      <td>0.062147</td>\n",
       "      <td>[Sign Up Success, Subscription Premium Cancel,...</td>\n",
       "    </tr>\n",
       "    <tr>\n",
       "      <th>...</th>\n",
       "      <td>...</td>\n",
       "      <td>...</td>\n",
       "    </tr>\n",
       "    <tr>\n",
       "      <th>119615</th>\n",
       "      <td>0.000282</td>\n",
       "      <td>[Add Payment Method Success, Add Vehicle Succe...</td>\n",
       "    </tr>\n",
       "    <tr>\n",
       "      <th>119616</th>\n",
       "      <td>0.000282</td>\n",
       "      <td>[Add Payment Method Success, Add Vehicle Succe...</td>\n",
       "    </tr>\n",
       "    <tr>\n",
       "      <th>119619</th>\n",
       "      <td>0.000282</td>\n",
       "      <td>[Add Payment Method Success, Add Vehicle Succe...</td>\n",
       "    </tr>\n",
       "    <tr>\n",
       "      <th>119625</th>\n",
       "      <td>0.000282</td>\n",
       "      <td>[Add Payment Method Success, Add Vehicle Succe...</td>\n",
       "    </tr>\n",
       "    <tr>\n",
       "      <th>197058</th>\n",
       "      <td>0.000282</td>\n",
       "      <td>[Account History Transaction Details, Account ...</td>\n",
       "    </tr>\n",
       "  </tbody>\n",
       "</table>\n",
       "<p>93948 rows × 2 columns</p>\n",
       "</div>"
      ],
      "text/plain": [
       "         support                                           itemsets\n",
       "19      0.070904                      [Subscription Premium Cancel]\n",
       "112     0.064407  [Subscription Premium Cancel, Add Payment Meth...\n",
       "239     0.062994  [Subscription Premium, Subscription Premium Ca...\n",
       "966     0.062994  [Subscription Premium, Subscription Premium Ca...\n",
       "962     0.062147  [Sign Up Success, Subscription Premium Cancel,...\n",
       "...          ...                                                ...\n",
       "119615  0.000282  [Add Payment Method Success, Add Vehicle Succe...\n",
       "119616  0.000282  [Add Payment Method Success, Add Vehicle Succe...\n",
       "119619  0.000282  [Add Payment Method Success, Add Vehicle Succe...\n",
       "119625  0.000282  [Add Payment Method Success, Add Vehicle Succe...\n",
       "197058  0.000282  [Account History Transaction Details, Account ...\n",
       "\n",
       "[93948 rows x 2 columns]"
      ]
     },
     "execution_count": 32,
     "metadata": {},
     "output_type": "execute_result"
    }
   ],
   "source": [
    "from mlxtend.preprocessing import TransactionEncoder\n",
    "from mlxtend.frequent_patterns import apriori\n",
    "\n",
    "\n",
    "# Convert the user_id and event_name columns into categorical variables\n",
    "data_2_copy['userid'] = data_2_copy['userid'].astype('category')\n",
    "data_2_copy['event_name'] = data_2_copy['event_name'].astype('category')\n",
    "\n",
    "\n",
    "# Encode the categorical variables as integers\n",
    "data_2_copy['userid_encoded'] = data_2_copy['userid'].cat.codes\n",
    "mapping = dict(list(zip(data_2_copy['event_name'].cat.codes, data_2_copy['event_name'])))\n",
    "data_2_copy['event_name_encoded'] = data_2_copy['event_name'].cat.codes\n",
    "\n",
    "# Group the data by user_id and create a list of event_name_encoded for each user\n",
    "grouped = data_2_copy.groupby('userid_encoded')['event_name_encoded'].apply(list).reset_index()\n",
    "\n",
    "# Convert the grouped data into a one-hot encoded format\n",
    "te = TransactionEncoder()\n",
    "te_ary = te.fit(grouped['event_name_encoded']).transform(grouped['event_name_encoded'])\n",
    "columns_mapping = te.columns_mapping_\n",
    "# Convert the one-hot encoded data into a pandas DataFrame\n",
    "data_2_copy_hot = pd.DataFrame(te_ary, columns=te.columns_)\n",
    "\n",
    "# Find the frequent itemsets using the Apriori algorithm\n",
    "frequent_itemsets = apriori(data_2_copy_hot, min_support=10e-9, use_colnames=True)\n",
    "\n",
    "# decode values\n",
    "frequent_itemsets['itemsets'] = frequent_itemsets['itemsets'].apply(lambda x: [columns_mapping[code] for code in x])\n",
    "frequent_itemsets['itemsets'] = frequent_itemsets['itemsets'].apply(lambda x: [mapping[code] for code in x])\n",
    "\n",
    "# Filter the frequent itemsets to only include those that contain the \"Subscription Premium Cancel\" event\n",
    "subscription_cancel = 'Subscription Premium Cancel'\n",
    "subscription_cancel_proritize = frequent_itemsets[frequent_itemsets['itemsets'].apply(lambda x: subscription_cancel in x)]\n",
    "# Sort the frequent itemsets by support in descending order\n",
    "subscription_cancel_proritize = subscription_cancel_proritize.sort_values(by='support', ascending=False)\n",
    "\n",
    "# Show the resulting frequent itemsets\n",
    "subscription_cancel_proritize"
   ]
  },
  {
   "cell_type": "markdown",
   "id": "7debe5ab",
   "metadata": {},
   "source": [
    "Let's see 10 sequences with highest frequency"
   ]
  },
  {
   "cell_type": "code",
   "execution_count": 33,
   "id": "ef540eaa",
   "metadata": {},
   "outputs": [
    {
     "data": {
      "text/plain": [
       "[['Subscription Premium Cancel'],\n",
       " ['Subscription Premium Cancel', 'Add Payment Method Success'],\n",
       " ['Subscription Premium', 'Subscription Premium Cancel'],\n",
       " ['Subscription Premium',\n",
       "  'Subscription Premium Cancel',\n",
       "  'Add Payment Method Success'],\n",
       " ['Sign Up Success',\n",
       "  'Subscription Premium Cancel',\n",
       "  'Add Payment Method Success'],\n",
       " ['Sign Up Success', 'Subscription Premium Cancel'],\n",
       " ['Chat Conversation Started', 'Subscription Premium Cancel'],\n",
       " ['Sign Up Success', 'Subscription Premium', 'Subscription Premium Cancel'],\n",
       " ['Sign Up Success',\n",
       "  'Subscription Premium',\n",
       "  'Subscription Premium Cancel',\n",
       "  'Add Payment Method Success'],\n",
       " ['Subscription Premium Cancel', 'Add Vehicle Success']]"
      ]
     },
     "execution_count": 33,
     "metadata": {},
     "output_type": "execute_result"
    }
   ],
   "source": [
    "list(subscription_cancel_proritize.itemsets[:10])"
   ]
  },
  {
   "cell_type": "markdown",
   "id": "c9cf191b",
   "metadata": {},
   "source": [
    "As was obvious, in almost every sequence we have Subscription Premium. Let's iterate by sequences and find ones with highest sum of supports"
   ]
  },
  {
   "cell_type": "code",
   "execution_count": 34,
   "id": "829003e2",
   "metadata": {},
   "outputs": [],
   "source": [
    "all_event_names = data.event_name.unique()\n",
    "dict_of_support_by_events = {}\n",
    "subs_dict = subscription_cancel_proritize.T.to_dict()\n",
    "for event in all_event_names:\n",
    "    dict_of_support_by_events[event] = 0\n",
    "    for key in subs_dict:\n",
    "        if event in subs_dict[key]['itemsets']:\n",
    "            dict_of_support_by_events[event] += subs_dict[key]['support']"
   ]
  },
  {
   "cell_type": "code",
   "execution_count": 35,
   "id": "a7642035",
   "metadata": {},
   "outputs": [
    {
     "data": {
      "text/plain": [
       "[('Subscription Premium Cancel', 92.2943502822235),\n",
       " ('Add Payment Method Success', 46.042937853121316),\n",
       " ('Subscription Premium', 45.84406779662421),\n",
       " ('Sign Up Success', 45.712994350296476),\n",
       " ('Add Vehicle Success', 45.40112994351698),\n",
       " ('Chat Conversation Started', 44.72740112995767),\n",
       " ('Chat Conversation Opened', 44.23785310735874),\n",
       " ('Account History Transaction Details', 41.76836158194793),\n",
       " ('Wallet Opened', 40.41751412432015),\n",
       " ('Calculator View', 34.67570621466897),\n",
       " ('Order', 29.776553672268488),\n",
       " ('Email Confirmation Success', 24.108474576227405),\n",
       " ('Add Vehicle Break', 20.822598870027107),\n",
       " ('Sign Out', 16.79999999999569),\n",
       " ('Transaction Refund', 15.304519774011851),\n",
       " ('Calculator Used', 13.776271186441251),\n",
       " ('Subscription Premium Renew', 12.294067796610651),\n",
       " ('Account Setup Profile Skip', 11.073446327684064),\n",
       " ('Add Payment Method Failed', 10.612429378531484),\n",
       " ('Account Setup Skip', 8.867796610169892),\n",
       " ('Sign Up Error', 1.1570621468926945),\n",
       " ('Add Vehicle Failed', 0.009039548022598874),\n",
       " ('Reset Password Set', 0)]"
      ]
     },
     "execution_count": 35,
     "metadata": {},
     "output_type": "execute_result"
    }
   ],
   "source": [
    "sorted(dict_of_support_by_events.items(), key=lambda x: x[1], reverse=True)"
   ]
  },
  {
   "cell_type": "markdown",
   "id": "02f16a52",
   "metadata": {},
   "source": [
    "We need to remember that in this analyses we also we take into account frequency of every event, so we cannot judge correation, but we may notice, that in half cases, where we Subscription Premium Cancel, we also have Add Payment Method Success, Subscription Premium, Sign Up Success, Add Vehicle Succes, Chat Conversation Started, Chat Conversation Opened. But Subscription Premium Renew we can see only in 1 of 8 cases"
   ]
  },
  {
   "cell_type": "markdown",
   "id": "0e07193f",
   "metadata": {},
   "source": [
    "### Bigram analyses"
   ]
  },
  {
   "cell_type": "code",
   "execution_count": 130,
   "id": "aafec1e0",
   "metadata": {},
   "outputs": [
    {
     "data": {
      "text/plain": [
       "userid\n",
       "8c9766660bf84148c2eab4fcb4d6f8ef      1\n",
       "6d08ed5afa8f5e6917c009b58b9c3110      1\n",
       "d5545663ff7f451293699ebb05333fc5      1\n",
       "d538dc6b56a5319edade6d4a36c14717      1\n",
       "d5348bfb9816c15891dd13981a05777b      1\n",
       "                                   ... \n",
       "31c1e16c643a0b79de9e269ee421a3bb    178\n",
       "9b19c0cc4a33ffdfe693957c48656c66    185\n",
       "95e7c959d7d39be0a965e9e315906fed    215\n",
       "dd3c7c5c898a4e6a4ed78d6e2c526bed    218\n",
       "627f50253b42607513a1c93bb68201ad    320\n",
       "Name: event_name, Length: 3540, dtype: int64"
      ]
     },
     "execution_count": 130,
     "metadata": {},
     "output_type": "execute_result"
    }
   ],
   "source": [
    "data.groupby('userid').agg('count').event_name.sort_values()"
   ]
  },
  {
   "cell_type": "markdown",
   "id": "57279ccd",
   "metadata": {},
   "source": [
    "We can see that we have 3540 unique users. Amount of users' events is in interval from 1 to 320"
   ]
  },
  {
   "cell_type": "code",
   "execution_count": 131,
   "id": "fc0eb1ff",
   "metadata": {},
   "outputs": [
    {
     "data": {
      "text/plain": [
       "userid\n",
       "03e0c91e1163e8b80e74e586a3e666d6    1\n",
       "a3a6f7a1f0a696ba44ab1d2017d30ba6    1\n",
       "a4933d8ad8fe82f84a8edc1cd10b7863    1\n",
       "a528cce04679dc6316925041fda7db8e    1\n",
       "a529249c937ee94029cde7d9de5493b7    1\n",
       "                                   ..\n",
       "2567193ff2ad4910e8b44dd1fc853195    2\n",
       "5393129fdf773191f7b3de51b35bb15d    2\n",
       "c952231e6ea12e2bdd6f735453422008    2\n",
       "5a90e9973c256c19c17b03bdda1c1fc4    2\n",
       "375f680cd1242eb7bf9263dd5ba1fe6d    2\n",
       "Name: event_name, Length: 251, dtype: int64"
      ]
     },
     "execution_count": 131,
     "metadata": {},
     "output_type": "execute_result"
    }
   ],
   "source": [
    "subscription_cancel = 'Subscription Premium Cancel'\n",
    "subscription_cancel_users = data[data['event_name'].apply(lambda x: subscription_cancel in x)]\n",
    "subscription_cancel_users.groupby('userid').agg('count').event_name.sort_values()"
   ]
  },
  {
   "cell_type": "markdown",
   "id": "eec95433",
   "metadata": {},
   "source": [
    "Also, we have 251 unique users, who cancelled premium subscription, 11 of them did it twice"
   ]
  },
  {
   "cell_type": "code",
   "execution_count": 132,
   "id": "b49a4f17",
   "metadata": {},
   "outputs": [
    {
     "data": {
      "text/html": [
       "<div>\n",
       "<style scoped>\n",
       "    .dataframe tbody tr th:only-of-type {\n",
       "        vertical-align: middle;\n",
       "    }\n",
       "\n",
       "    .dataframe tbody tr th {\n",
       "        vertical-align: top;\n",
       "    }\n",
       "\n",
       "    .dataframe thead th {\n",
       "        text-align: right;\n",
       "    }\n",
       "</style>\n",
       "<table border=\"1\" class=\"dataframe\">\n",
       "  <thead>\n",
       "    <tr style=\"text-align: right;\">\n",
       "      <th></th>\n",
       "      <th>userid</th>\n",
       "      <th>user_state</th>\n",
       "      <th>event_name</th>\n",
       "      <th>event_attributes</th>\n",
       "      <th>event_created_date</th>\n",
       "      <th>event_platform</th>\n",
       "      <th>device_manufacture</th>\n",
       "      <th>device_model</th>\n",
       "      <th>month</th>\n",
       "    </tr>\n",
       "  </thead>\n",
       "  <tbody>\n",
       "    <tr>\n",
       "      <th>0</th>\n",
       "      <td>c95c777785faec8dd910d019d7278ebe</td>\n",
       "      <td>CA</td>\n",
       "      <td>AddVehicleSuccess</td>\n",
       "      <td>{\"Make\":\"Dodge\",\"Model\":\"Caravan\",\"Color\":\"Whi...</td>\n",
       "      <td>2022-01-16 17:03:04</td>\n",
       "      <td>android</td>\n",
       "      <td>samsung</td>\n",
       "      <td>SM-N9</td>\n",
       "      <td>1</td>\n",
       "    </tr>\n",
       "    <tr>\n",
       "      <th>1</th>\n",
       "      <td>c95c777785faec8dd910d019d7278ebe</td>\n",
       "      <td>CA</td>\n",
       "      <td>AddVehicleBreak</td>\n",
       "      <td>{}</td>\n",
       "      <td>2022-01-16 17:07:47</td>\n",
       "      <td>android</td>\n",
       "      <td>samsung</td>\n",
       "      <td>SM-N9</td>\n",
       "      <td>1</td>\n",
       "    </tr>\n",
       "    <tr>\n",
       "      <th>2</th>\n",
       "      <td>f344be2d9a042b7444f3cc5279e38ef1</td>\n",
       "      <td>FL</td>\n",
       "      <td>CalculatorView</td>\n",
       "      <td>{}</td>\n",
       "      <td>2022-01-16 17:16:25</td>\n",
       "      <td>android</td>\n",
       "      <td>samsung</td>\n",
       "      <td>SM-G9</td>\n",
       "      <td>1</td>\n",
       "    </tr>\n",
       "    <tr>\n",
       "      <th>3</th>\n",
       "      <td>c95c777785faec8dd910d019d7278ebe</td>\n",
       "      <td>CA</td>\n",
       "      <td>AddPaymentMethodSuccess</td>\n",
       "      <td>{\"Payment Method\":\"Credit\",\"Tokenized Pay\":\"\"}</td>\n",
       "      <td>2022-01-16 17:24:22</td>\n",
       "      <td>android</td>\n",
       "      <td>samsung</td>\n",
       "      <td>SM-N9</td>\n",
       "      <td>1</td>\n",
       "    </tr>\n",
       "    <tr>\n",
       "      <th>4</th>\n",
       "      <td>e331ed81422d8fba55520a43a872e701</td>\n",
       "      <td>IL</td>\n",
       "      <td>SignUpSuccess</td>\n",
       "      <td>{\"Method\":\"Apple\"}</td>\n",
       "      <td>2022-01-16 17:34:51</td>\n",
       "      <td>ios</td>\n",
       "      <td>Apple</td>\n",
       "      <td>iPhone12</td>\n",
       "      <td>1</td>\n",
       "    </tr>\n",
       "    <tr>\n",
       "      <th>...</th>\n",
       "      <td>...</td>\n",
       "      <td>...</td>\n",
       "      <td>...</td>\n",
       "      <td>...</td>\n",
       "      <td>...</td>\n",
       "      <td>...</td>\n",
       "      <td>...</td>\n",
       "      <td>...</td>\n",
       "      <td>...</td>\n",
       "    </tr>\n",
       "    <tr>\n",
       "      <th>23352</th>\n",
       "      <td>679eba26c4e75e0afb178360becfa21b</td>\n",
       "      <td>CA</td>\n",
       "      <td>AddPaymentMethodSuccess</td>\n",
       "      <td>{\"Payment Method\":\"Credit\",\"Tokenized Pay\":\"\",...</td>\n",
       "      <td>2022-04-16 20:49:24</td>\n",
       "      <td>android</td>\n",
       "      <td>Google</td>\n",
       "      <td>Pixel 3</td>\n",
       "      <td>4</td>\n",
       "    </tr>\n",
       "    <tr>\n",
       "      <th>23353</th>\n",
       "      <td>679eba26c4e75e0afb178360becfa21b</td>\n",
       "      <td>CA</td>\n",
       "      <td>AccountSetupProfileSkip</td>\n",
       "      <td>{\"Screen\":\"Address\"}</td>\n",
       "      <td>2022-04-16 20:50:05</td>\n",
       "      <td>android</td>\n",
       "      <td>Google</td>\n",
       "      <td>Pixel 3</td>\n",
       "      <td>4</td>\n",
       "    </tr>\n",
       "    <tr>\n",
       "      <th>23354</th>\n",
       "      <td>679eba26c4e75e0afb178360becfa21b</td>\n",
       "      <td>CA</td>\n",
       "      <td>AccountSetupProfileSkip</td>\n",
       "      <td>{\"Screen\":\"Phone Number\"}</td>\n",
       "      <td>2022-04-16 20:50:10</td>\n",
       "      <td>android</td>\n",
       "      <td>Google</td>\n",
       "      <td>Pixel 3</td>\n",
       "      <td>4</td>\n",
       "    </tr>\n",
       "    <tr>\n",
       "      <th>23355</th>\n",
       "      <td>679eba26c4e75e0afb178360becfa21b</td>\n",
       "      <td>CA</td>\n",
       "      <td>ChatConversationOpened</td>\n",
       "      <td>{\"From\":\"Dashboard\",\"Transaction type\":\"\"}</td>\n",
       "      <td>2022-04-16 20:50:31</td>\n",
       "      <td>android</td>\n",
       "      <td>Google</td>\n",
       "      <td>Pixel 3</td>\n",
       "      <td>4</td>\n",
       "    </tr>\n",
       "    <tr>\n",
       "      <th>23356</th>\n",
       "      <td>679eba26c4e75e0afb178360becfa21b</td>\n",
       "      <td>CA</td>\n",
       "      <td>SubscriptionPremium</td>\n",
       "      <td>{\"Start Date\":\"2022-04-16\",\"Renewal Date\":\"202...</td>\n",
       "      <td>2022-04-16 20:50:39</td>\n",
       "      <td>outofband</td>\n",
       "      <td>outofband</td>\n",
       "      <td>outofband</td>\n",
       "      <td>4</td>\n",
       "    </tr>\n",
       "  </tbody>\n",
       "</table>\n",
       "<p>22039 rows × 9 columns</p>\n",
       "</div>"
      ],
      "text/plain": [
       "                                 userid user_state               event_name  \\\n",
       "0      c95c777785faec8dd910d019d7278ebe         CA        AddVehicleSuccess   \n",
       "1      c95c777785faec8dd910d019d7278ebe         CA          AddVehicleBreak   \n",
       "2      f344be2d9a042b7444f3cc5279e38ef1         FL           CalculatorView   \n",
       "3      c95c777785faec8dd910d019d7278ebe         CA  AddPaymentMethodSuccess   \n",
       "4      e331ed81422d8fba55520a43a872e701         IL            SignUpSuccess   \n",
       "...                                 ...        ...                      ...   \n",
       "23352  679eba26c4e75e0afb178360becfa21b         CA  AddPaymentMethodSuccess   \n",
       "23353  679eba26c4e75e0afb178360becfa21b         CA  AccountSetupProfileSkip   \n",
       "23354  679eba26c4e75e0afb178360becfa21b         CA  AccountSetupProfileSkip   \n",
       "23355  679eba26c4e75e0afb178360becfa21b         CA   ChatConversationOpened   \n",
       "23356  679eba26c4e75e0afb178360becfa21b         CA      SubscriptionPremium   \n",
       "\n",
       "                                        event_attributes  event_created_date  \\\n",
       "0      {\"Make\":\"Dodge\",\"Model\":\"Caravan\",\"Color\":\"Whi... 2022-01-16 17:03:04   \n",
       "1                                                     {} 2022-01-16 17:07:47   \n",
       "2                                                     {} 2022-01-16 17:16:25   \n",
       "3         {\"Payment Method\":\"Credit\",\"Tokenized Pay\":\"\"} 2022-01-16 17:24:22   \n",
       "4                                     {\"Method\":\"Apple\"} 2022-01-16 17:34:51   \n",
       "...                                                  ...                 ...   \n",
       "23352  {\"Payment Method\":\"Credit\",\"Tokenized Pay\":\"\",... 2022-04-16 20:49:24   \n",
       "23353                               {\"Screen\":\"Address\"} 2022-04-16 20:50:05   \n",
       "23354                          {\"Screen\":\"Phone Number\"} 2022-04-16 20:50:10   \n",
       "23355         {\"From\":\"Dashboard\",\"Transaction type\":\"\"} 2022-04-16 20:50:31   \n",
       "23356  {\"Start Date\":\"2022-04-16\",\"Renewal Date\":\"202... 2022-04-16 20:50:39   \n",
       "\n",
       "      event_platform device_manufacture device_model  month  \n",
       "0            android            samsung        SM-N9      1  \n",
       "1            android            samsung        SM-N9      1  \n",
       "2            android            samsung        SM-G9      1  \n",
       "3            android            samsung        SM-N9      1  \n",
       "4                ios              Apple     iPhone12      1  \n",
       "...              ...                ...          ...    ...  \n",
       "23352        android             Google      Pixel 3      4  \n",
       "23353        android             Google      Pixel 3      4  \n",
       "23354        android             Google      Pixel 3      4  \n",
       "23355        android             Google      Pixel 3      4  \n",
       "23356      outofband          outofband    outofband      4  \n",
       "\n",
       "[22039 rows x 9 columns]"
      ]
     },
     "execution_count": 132,
     "metadata": {},
     "output_type": "execute_result"
    }
   ],
   "source": [
    "bigram_data = copy.deepcopy(data)\n",
    "bigram_data['event_name'] = bigram_data.apply(lambda x: str(x['event_name']).replace(\" \", \"\"), axis=1)\n",
    "bigram_data"
   ]
  },
  {
   "cell_type": "code",
   "execution_count": 133,
   "id": "7023b0bb",
   "metadata": {},
   "outputs": [
    {
     "data": {
      "text/html": [
       "<div>\n",
       "<style scoped>\n",
       "    .dataframe tbody tr th:only-of-type {\n",
       "        vertical-align: middle;\n",
       "    }\n",
       "\n",
       "    .dataframe tbody tr th {\n",
       "        vertical-align: top;\n",
       "    }\n",
       "\n",
       "    .dataframe thead th {\n",
       "        text-align: right;\n",
       "    }\n",
       "</style>\n",
       "<table border=\"1\" class=\"dataframe\">\n",
       "  <thead>\n",
       "    <tr style=\"text-align: right;\">\n",
       "      <th></th>\n",
       "      <th>event_name</th>\n",
       "    </tr>\n",
       "    <tr>\n",
       "      <th>userid</th>\n",
       "      <th></th>\n",
       "    </tr>\n",
       "  </thead>\n",
       "  <tbody>\n",
       "    <tr>\n",
       "      <th>0006869712ec9841dc36234bce245203</th>\n",
       "      <td>['AddPaymentMethodSuccess' 'SubscriptionPremiu...</td>\n",
       "    </tr>\n",
       "    <tr>\n",
       "      <th>000a59897372c5e3c147b15685fefc65</th>\n",
       "      <td>['SignUpSuccess']</td>\n",
       "    </tr>\n",
       "    <tr>\n",
       "      <th>001244c572f1a681553bc045a378cacf</th>\n",
       "      <td>['SignUpSuccess']</td>\n",
       "    </tr>\n",
       "    <tr>\n",
       "      <th>0032cb66b99f6baef57ec2aa04a9277f</th>\n",
       "      <td>['SignUpSuccess']</td>\n",
       "    </tr>\n",
       "    <tr>\n",
       "      <th>003f57fe2631ade57a86f6a2b96bb20c</th>\n",
       "      <td>['SignUpSuccess' 'AddVehicleSuccess' 'AccountS...</td>\n",
       "    </tr>\n",
       "    <tr>\n",
       "      <th>...</th>\n",
       "      <td>...</td>\n",
       "    </tr>\n",
       "    <tr>\n",
       "      <th>ff9fd3437958123842f3ab75d22fc13f</th>\n",
       "      <td>['SignUpSuccess']</td>\n",
       "    </tr>\n",
       "    <tr>\n",
       "      <th>ffa1aa12dd53aee84976cb6c525bb17b</th>\n",
       "      <td>['SignUpSuccess' 'EmailConfirmationSuccess' 'A...</td>\n",
       "    </tr>\n",
       "    <tr>\n",
       "      <th>ffbbc97af52745060a9dff4eb9917f75</th>\n",
       "      <td>['SignUpSuccess']</td>\n",
       "    </tr>\n",
       "    <tr>\n",
       "      <th>ffc566d97935423b6d7a3f9ba211a2b4</th>\n",
       "      <td>['SignUpSuccess']</td>\n",
       "    </tr>\n",
       "    <tr>\n",
       "      <th>fffec8d843de9e49ef7c13df5a44da24</th>\n",
       "      <td>['SignUpSuccess' 'EmailConfirmationSuccess' 'A...</td>\n",
       "    </tr>\n",
       "  </tbody>\n",
       "</table>\n",
       "<p>3540 rows × 1 columns</p>\n",
       "</div>"
      ],
      "text/plain": [
       "                                                                         event_name\n",
       "userid                                                                             \n",
       "0006869712ec9841dc36234bce245203  ['AddPaymentMethodSuccess' 'SubscriptionPremiu...\n",
       "000a59897372c5e3c147b15685fefc65                                  ['SignUpSuccess']\n",
       "001244c572f1a681553bc045a378cacf                                  ['SignUpSuccess']\n",
       "0032cb66b99f6baef57ec2aa04a9277f                                  ['SignUpSuccess']\n",
       "003f57fe2631ade57a86f6a2b96bb20c  ['SignUpSuccess' 'AddVehicleSuccess' 'AccountS...\n",
       "...                                                                             ...\n",
       "ff9fd3437958123842f3ab75d22fc13f                                  ['SignUpSuccess']\n",
       "ffa1aa12dd53aee84976cb6c525bb17b  ['SignUpSuccess' 'EmailConfirmationSuccess' 'A...\n",
       "ffbbc97af52745060a9dff4eb9917f75                                  ['SignUpSuccess']\n",
       "ffc566d97935423b6d7a3f9ba211a2b4                                  ['SignUpSuccess']\n",
       "fffec8d843de9e49ef7c13df5a44da24  ['SignUpSuccess' 'EmailConfirmationSuccess' 'A...\n",
       "\n",
       "[3540 rows x 1 columns]"
      ]
     },
     "execution_count": 133,
     "metadata": {},
     "output_type": "execute_result"
    }
   ],
   "source": [
    "def values_agg(series):\n",
    "    return str(series.values)\n",
    "\n",
    "bigram_data = bigram_data.groupby(['userid']).agg({'event_name' :values_agg})\n",
    "bigram_data"
   ]
  },
  {
   "cell_type": "code",
   "execution_count": 134,
   "id": "c21ba250",
   "metadata": {},
   "outputs": [],
   "source": [
    "from sklearn.feature_extraction.text import CountVectorizer\n",
    "event_names = bigram_data['event_name'].tolist()\n",
    "vectorizer = CountVectorizer(ngram_range=(2, 2), token_pattern=r'\\b\\w+\\b', min_df=1)\n",
    "\n",
    "# Transform the list of event names into bigrams\n",
    "bigrams = vectorizer.fit_transform(event_names)\n",
    "\n",
    "# Get the features and feature names\n",
    "features = bigrams.toarray()\n",
    "feature_names = vectorizer.vocabulary_"
   ]
  },
  {
   "cell_type": "code",
   "execution_count": 41,
   "id": "323d9ba2",
   "metadata": {},
   "outputs": [
    {
     "data": {
      "text/plain": [
       "defaultdict(int,\n",
       "            {('subscriptionpremiumcancel', 'walletopened'): 557,\n",
       "             ('subscriptionpremiumcancel', 'transactionrefund'): 541,\n",
       "             ('subscriptionpremiumcancel', 'subscriptionpremiumrenew'): 271,\n",
       "             ('subscriptionpremiumcancel', 'subscriptionpremiumcancel'): 261,\n",
       "             ('signout', 'subscriptionpremiumcancel'): 474,\n",
       "             ('order', 'subscriptionpremiumcancel'): 455,\n",
       "             ('chatconversationstarted', 'subscriptionpremiumcancel'): 423,\n",
       "             ('chatconversationopened', 'subscriptionpremiumcancel'): 406,\n",
       "             ('calculatorview', 'subscriptionpremiumcancel'): 389,\n",
       "             ('addvehiclesuccess', 'subscriptionpremiumcancel'): 255,\n",
       "             ('addvehiclebreak', 'subscriptionpremiumcancel'): 254,\n",
       "             ('addpaymentmethodsuccess', 'subscriptionpremiumcancel'): 322,\n",
       "             ('addpaymentmethodfailed', 'subscriptionpremiumcancel'): 252,\n",
       "             ('accounthistorytransactiondetails',\n",
       "              'subscriptionpremiumcancel'): 262})"
      ]
     },
     "execution_count": 41,
     "metadata": {},
     "output_type": "execute_result"
    }
   ],
   "source": [
    "from collections import defaultdict\n",
    "\n",
    "result = {k: v for k, v in feature_names.items() if 'subscriptionpremiumcancel' in k}\n",
    "result = sorted(result.items(), key=lambda x: x[1], reverse=True)\n",
    "pair_count = defaultdict(int)\n",
    "for event_pair, count in result:\n",
    "    pair_count[tuple(sorted(event_pair.split()))] += count\n",
    "pair_count"
   ]
  },
  {
   "cell_type": "markdown",
   "id": "5374aa6a",
   "metadata": {},
   "source": [
    "As wee see, that the most frequent bigram with \"Subscription Premium Cancel\" is (\"Wallet Opened\",  \"Subscription Premium Cancel) with frequency 271. Now we need to normalize this data"
   ]
  },
  {
   "cell_type": "code",
   "execution_count": 42,
   "id": "d9bbfad8",
   "metadata": {},
   "outputs": [
    {
     "data": {
      "text/plain": [
       "{'Account History Transaction Details': 1607,\n",
       " 'Account Setup Profile Skip': 498,\n",
       " 'Account Setup Skip': 222,\n",
       " 'Add Payment Method Failed': 334,\n",
       " 'Add Payment Method Success': 1038,\n",
       " 'Add Vehicle Break': 486,\n",
       " 'Add Vehicle Failed': 21,\n",
       " 'Add Vehicle Success': 1923,\n",
       " 'Calculator Used': 120,\n",
       " 'Calculator View': 620,\n",
       " 'Chat Conversation Opened': 1485,\n",
       " 'Chat Conversation Started': 1201,\n",
       " 'Email Confirmation Success': 832,\n",
       " 'Order': 4845,\n",
       " 'Reset Password Set': 1,\n",
       " 'Sign Out': 595,\n",
       " 'Sign Up Error': 26,\n",
       " 'Sign Up Success': 3329,\n",
       " 'Subscription Premium': 711,\n",
       " 'Subscription Premium Cancel': 262,\n",
       " 'Subscription Premium Renew': 310,\n",
       " 'Transaction Refund': 102,\n",
       " 'Wallet Opened': 1471}"
      ]
     },
     "execution_count": 42,
     "metadata": {},
     "output_type": "execute_result"
    }
   ],
   "source": [
    "event_count = data.groupby('event_name').agg('count').month.T.to_dict()\n",
    "event_count"
   ]
  },
  {
   "cell_type": "code",
   "execution_count": 43,
   "id": "c68ede47",
   "metadata": {},
   "outputs": [
    {
     "data": {
      "text/plain": [
       "[('Transaction Refund', 5.303921568627451),\n",
       " ('Subscription Premium Cancel', 1.0),\n",
       " ('Subscription Premium Renew', 0.8741935483870967),\n",
       " ('Sign Out', 0.7966386554621848),\n",
       " ('Add Payment Method Failed', 0.7544910179640718),\n",
       " ('Calculator View', 0.6274193548387097),\n",
       " ('Add Vehicle Break', 0.522633744855967),\n",
       " ('Wallet Opened', 0.3786539768864718),\n",
       " ('Chat Conversation Started', 0.3522064945878435),\n",
       " ('Add Payment Method Success', 0.31021194605009633),\n",
       " ('Chat Conversation Opened', 0.2734006734006734),\n",
       " ('Account History Transaction Details', 0.16303671437461106),\n",
       " ('Add Vehicle Success', 0.13260530421216848),\n",
       " ('Order', 0.09391124871001032)]"
      ]
     },
     "execution_count": 43,
     "metadata": {},
     "output_type": "execute_result"
    }
   ],
   "source": [
    "normalized_result = {}\n",
    "for key in event_count:\n",
    "    for event_pair, count in pair_count.items():\n",
    "        if key.lower().replace(\" \", \"\") in event_pair:\n",
    "            normalized_result[key] = count/event_count[key]\n",
    "normalized_result = sorted(normalized_result.items(), key=lambda x: x[1], reverse=True)\n",
    "normalized_result"
   ]
  },
  {
   "cell_type": "markdown",
   "id": "11191cc3",
   "metadata": {},
   "source": [
    "As we can see the highest dependency Subscription Premium Cancellation has with Transaction Refund and Subscription Premium Renew. This has logic: at first, app automatically withdraws money from user, than transaction refunds, user cancels premium and sign out"
   ]
  },
  {
   "cell_type": "markdown",
   "id": "3bea2317",
   "metadata": {},
   "source": [
    "### Markov chains"
   ]
  },
  {
   "cell_type": "markdown",
   "id": "bfde65e7",
   "metadata": {},
   "source": [
    "Let's implement class for Markov chain"
   ]
  },
  {
   "cell_type": "code",
   "execution_count": 61,
   "id": "bf52bf6c",
   "metadata": {},
   "outputs": [],
   "source": [
    "class MarkovChain:\n",
    "    \n",
    "    def __init__(self, transition_matrix, states):\n",
    "        self.transition_matrix = transition_matrix\n",
    "        self.states = states\n",
    "        self.state_to_index = {state: index for index, state in enumerate(states)}\n",
    "    \n",
    "    def get_next_state(self, current_state):\n",
    "        current_index = self.state_to_index[current_state]\n",
    "        next_index = np.random.choice(len(self.states), p=self.transition_matrix[current_index, :])\n",
    "        return self.states[next_index]"
   ]
  },
  {
   "cell_type": "code",
   "execution_count": 59,
   "id": "29601cbb",
   "metadata": {},
   "outputs": [],
   "source": [
    "events = data[\"event_name\"].unique()\n",
    "event_index = {event: index for index, event in enumerate(events)}\n",
    "transition_matrix = np.zeros((len(events), len(events)))\n",
    "\n",
    "for i in range(data.shape[0] - 1):\n",
    "    current_event = data.iloc[i][\"event_name\"]\n",
    "    next_event = data.iloc[i + 1][\"event_name\"]\n",
    "    current_event_index = event_index[current_event]\n",
    "    next_event_index = event_index[next_event]\n",
    "    transition_matrix[current_event_index][next_event_index] += 1\n",
    "\n",
    "transition_probs = transition_matrix / np.sum(transition_matrix, axis=1, keepdims=True)"
   ]
  },
  {
   "cell_type": "code",
   "execution_count": 62,
   "id": "c0152270",
   "metadata": {},
   "outputs": [],
   "source": [
    "markov_chain = MarkovChain(transition_probs, events)"
   ]
  },
  {
   "cell_type": "markdown",
   "id": "272243d2",
   "metadata": {},
   "source": [
    "#### !Notice that your test can be different!"
   ]
  },
  {
   "cell_type": "markdown",
   "id": "8868c27b",
   "metadata": {},
   "source": [
    "#### 1 test"
   ]
  },
  {
   "cell_type": "code",
   "execution_count": 63,
   "id": "dfc92bb5",
   "metadata": {},
   "outputs": [
    {
     "name": "stdout",
     "output_type": "stream",
     "text": [
      "Current state: Subscription Premium Cancel\n",
      "Next state: Transaction Refund\n"
     ]
    }
   ],
   "source": [
    "current_state = \"Subscription Premium Cancel\"\n",
    "print(\"Current state:\", current_state)\n",
    "print(\"Next state:\", markov_chain.get_next_state(current_state))"
   ]
  },
  {
   "cell_type": "code",
   "execution_count": 65,
   "id": "2d0203cb",
   "metadata": {},
   "outputs": [
    {
     "name": "stdout",
     "output_type": "stream",
     "text": [
      "Current state: Transaction Refund\n",
      "Next state: Chat Conversation Opened\n"
     ]
    }
   ],
   "source": [
    "current_state = \"Transaction Refund\"\n",
    "print(\"Current state:\", current_state)\n",
    "print(\"Next state:\", markov_chain.get_next_state(current_state))"
   ]
  },
  {
   "cell_type": "code",
   "execution_count": 66,
   "id": "7d1e824d",
   "metadata": {},
   "outputs": [
    {
     "name": "stdout",
     "output_type": "stream",
     "text": [
      "Current state: Chat Conversation Opened\n",
      "Next state: Chat Conversation Started\n"
     ]
    }
   ],
   "source": [
    "current_state = \"Chat Conversation Opened\"\n",
    "print(\"Current state:\", current_state)\n",
    "print(\"Next state:\", markov_chain.get_next_state(current_state))"
   ]
  },
  {
   "cell_type": "markdown",
   "id": "c609d5d4",
   "metadata": {},
   "source": [
    "#### 2 test"
   ]
  },
  {
   "cell_type": "code",
   "execution_count": 77,
   "id": "1897a6a2",
   "metadata": {},
   "outputs": [
    {
     "name": "stdout",
     "output_type": "stream",
     "text": [
      "Current state: Subscription Premium Cancel\n",
      "Next state: Sign Up Success\n"
     ]
    }
   ],
   "source": [
    "current_state = \"Subscription Premium Cancel\"\n",
    "print(\"Current state:\", current_state)\n",
    "print(\"Next state:\", markov_chain.get_next_state(current_state))"
   ]
  },
  {
   "cell_type": "code",
   "execution_count": 78,
   "id": "c3995772",
   "metadata": {},
   "outputs": [
    {
     "name": "stdout",
     "output_type": "stream",
     "text": [
      "Current state: Sign Up Success\n",
      "Next state: Wallet Opened\n"
     ]
    }
   ],
   "source": [
    "current_state = \"Sign Up Success\"\n",
    "print(\"Current state:\", current_state)\n",
    "print(\"Next state:\", markov_chain.get_next_state(current_state))"
   ]
  },
  {
   "cell_type": "code",
   "execution_count": 79,
   "id": "343eca60",
   "metadata": {},
   "outputs": [
    {
     "name": "stdout",
     "output_type": "stream",
     "text": [
      "Current state: Wallet Opened\n",
      "Next state: Chat Conversation Opened\n"
     ]
    }
   ],
   "source": [
    "current_state = \"Wallet Opened\"\n",
    "print(\"Current state:\", current_state)\n",
    "print(\"Next state:\", markov_chain.get_next_state(current_state))"
   ]
  },
  {
   "cell_type": "code",
   "execution_count": 80,
   "id": "749b7150",
   "metadata": {},
   "outputs": [
    {
     "name": "stdout",
     "output_type": "stream",
     "text": [
      "Current state: Chat Conversation Opened\n",
      "Next state: Calculator View\n"
     ]
    }
   ],
   "source": [
    "current_state = \"Chat Conversation Opened\"\n",
    "print(\"Current state:\", current_state)\n",
    "print(\"Next state:\", markov_chain.get_next_state(current_state))"
   ]
  },
  {
   "cell_type": "markdown",
   "id": "16fa8da8",
   "metadata": {},
   "source": [
    "#### 3 test"
   ]
  },
  {
   "cell_type": "code",
   "execution_count": 76,
   "id": "a481d347",
   "metadata": {},
   "outputs": [
    {
     "name": "stdout",
     "output_type": "stream",
     "text": [
      "Current state: Subscription Premium Cancel\n",
      "Next state: Chat Conversation Opened\n"
     ]
    }
   ],
   "source": [
    "current_state = \"Subscription Premium Cancel\"\n",
    "print(\"Current state:\", current_state)\n",
    "print(\"Next state:\", markov_chain.get_next_state(current_state))"
   ]
  },
  {
   "cell_type": "code",
   "execution_count": 81,
   "id": "7b0f51df",
   "metadata": {},
   "outputs": [
    {
     "name": "stdout",
     "output_type": "stream",
     "text": [
      "Current state: Chat Conversation Opened\n",
      "Next state: Wallet Opened\n"
     ]
    }
   ],
   "source": [
    "current_state = \"Chat Conversation Opened\"\n",
    "print(\"Current state:\", current_state)\n",
    "print(\"Next state:\", markov_chain.get_next_state(current_state))"
   ]
  },
  {
   "cell_type": "code",
   "execution_count": 82,
   "id": "51df1b9c",
   "metadata": {},
   "outputs": [
    {
     "name": "stdout",
     "output_type": "stream",
     "text": [
      "Current state: Wallet Opened\n",
      "Next state: Chat Conversation Opened\n"
     ]
    }
   ],
   "source": [
    "current_state = \"Wallet Opened\"\n",
    "print(\"Current state:\", current_state)\n",
    "print(\"Next state:\", markov_chain.get_next_state(current_state))"
   ]
  },
  {
   "cell_type": "markdown",
   "id": "7e285340",
   "metadata": {},
   "source": [
    "#### 4 test"
   ]
  },
  {
   "cell_type": "code",
   "execution_count": 83,
   "id": "a14f2c46",
   "metadata": {},
   "outputs": [
    {
     "name": "stdout",
     "output_type": "stream",
     "text": [
      "Current state: Subscription Premium Cancel\n",
      "Next state: Chat Conversation Started\n"
     ]
    }
   ],
   "source": [
    "current_state = \"Subscription Premium Cancel\"\n",
    "print(\"Current state:\", current_state)\n",
    "print(\"Next state:\", markov_chain.get_next_state(current_state))"
   ]
  },
  {
   "cell_type": "code",
   "execution_count": 85,
   "id": "1b8e429a",
   "metadata": {},
   "outputs": [
    {
     "name": "stdout",
     "output_type": "stream",
     "text": [
      "Current state: Chat Conversation Started\n",
      "Next state: Wallet Opened\n"
     ]
    }
   ],
   "source": [
    "current_state = \"Chat Conversation Started\"\n",
    "print(\"Current state:\", current_state)\n",
    "print(\"Next state:\", markov_chain.get_next_state(current_state))"
   ]
  },
  {
   "cell_type": "code",
   "execution_count": 86,
   "id": "8fb8154e",
   "metadata": {},
   "outputs": [
    {
     "name": "stdout",
     "output_type": "stream",
     "text": [
      "Current state: Wallet Opened\n",
      "Next state: Account History Transaction Details\n"
     ]
    }
   ],
   "source": [
    "current_state = \"Wallet Opened\"\n",
    "print(\"Current state:\", current_state)\n",
    "print(\"Next state:\", markov_chain.get_next_state(current_state))"
   ]
  },
  {
   "cell_type": "markdown",
   "id": "498171ab",
   "metadata": {},
   "source": [
    "#### 5 test"
   ]
  },
  {
   "cell_type": "code",
   "execution_count": 96,
   "id": "06978c85",
   "metadata": {},
   "outputs": [
    {
     "name": "stdout",
     "output_type": "stream",
     "text": [
      "Current state: Subscription Premium Cancel\n",
      "Next state: Transaction Refund\n"
     ]
    }
   ],
   "source": [
    "current_state = \"Subscription Premium Cancel\"\n",
    "print(\"Current state:\", current_state)\n",
    "print(\"Next state:\", markov_chain.get_next_state(current_state))"
   ]
  },
  {
   "cell_type": "code",
   "execution_count": 97,
   "id": "1ea71cee",
   "metadata": {},
   "outputs": [
    {
     "name": "stdout",
     "output_type": "stream",
     "text": [
      "Current state: Transaction Refund\n",
      "Next state: Sign Up Success\n"
     ]
    }
   ],
   "source": [
    "current_state = \"Transaction Refund\"\n",
    "print(\"Current state:\", current_state)\n",
    "print(\"Next state:\", markov_chain.get_next_state(current_state))"
   ]
  },
  {
   "cell_type": "code",
   "execution_count": 98,
   "id": "fa98facb",
   "metadata": {},
   "outputs": [
    {
     "name": "stdout",
     "output_type": "stream",
     "text": [
      "Current state: Sign Up Success\n",
      "Next state: Add Vehicle Success\n"
     ]
    }
   ],
   "source": [
    "current_state = \"Sign Up Success\"\n",
    "print(\"Current state:\", current_state)\n",
    "print(\"Next state:\", markov_chain.get_next_state(current_state))"
   ]
  },
  {
   "cell_type": "markdown",
   "id": "89a1af58",
   "metadata": {},
   "source": [
    "Like in previous tests, we got the highest corellation with Transaction Refund, Chat Conversations and Wallet openings"
   ]
  },
  {
   "cell_type": "markdown",
   "id": "2f983df6",
   "metadata": {},
   "source": [
    "### Interim findings"
   ]
  },
  {
   "cell_type": "markdown",
   "id": "24a41518",
   "metadata": {},
   "source": [
    "Based on frequent, bigram and Markov sequences analyses we can see the common pattern of users which cancel Premium Subcription:\n",
    "1. Subcription Premium Renew\n",
    "2. Chat Conversation Opened\n",
    "3. Chat conversation started\n",
    "4. Wallet opened\n",
    "5. Transaction Refund\n",
    "6. Subscription Premium Cancel\n",
    "\n",
    "So 2 business idea to reduce users which cancels premium subscription:\n",
    "* In chat coversation with manager offer to user some previligues, so he would have motivation to stay\n",
    "* Warn user about withdrawal of money few days before withdrawal with messages like \"Glad you're with us\" or oferring some promocodes once in few month\n",
    "\n",
    "[See Notebook Parameters_analyses]"
   ]
  }
 ],
 "metadata": {
  "kernelspec": {
   "display_name": "Python 3 (ipykernel)",
   "language": "python",
   "name": "python3"
  },
  "language_info": {
   "codemirror_mode": {
    "name": "ipython",
    "version": 3
   },
   "file_extension": ".py",
   "mimetype": "text/x-python",
   "name": "python",
   "nbconvert_exporter": "python",
   "pygments_lexer": "ipython3",
   "version": "3.9.7"
  }
 },
 "nbformat": 4,
 "nbformat_minor": 5
}
